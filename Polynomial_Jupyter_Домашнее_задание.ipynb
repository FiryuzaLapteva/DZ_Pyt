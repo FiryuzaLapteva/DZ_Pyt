{
  "nbformat": 4,
  "nbformat_minor": 0,
  "metadata": {
    "colab": {
      "provenance": [],
      "authorship_tag": "ABX9TyNkLggXUmP9EjtjKDCMawAS",
      "include_colab_link": true
    },
    "kernelspec": {
      "name": "python3",
      "display_name": "Python 3"
    },
    "language_info": {
      "name": "python"
    }
  },
  "cells": [
    {
      "cell_type": "markdown",
      "metadata": {
        "id": "view-in-github",
        "colab_type": "text"
      },
      "source": [
        "<a href=\"https://colab.research.google.com/github/FiryuzaLapteva/DZ_Pyt/blob/main/Polynomial_Jupyter_%D0%94%D0%BE%D0%BC%D0%B0%D1%88%D0%BD%D0%B5%D0%B5_%D0%B7%D0%B0%D0%B4%D0%B0%D0%BD%D0%B8%D0%B5.ipynb\" target=\"_parent\"><img src=\"https://colab.research.google.com/assets/colab-badge.svg\" alt=\"Open In Colab\"/></a>"
      ]
    },
    {
      "cell_type": "markdown",
      "source": [
        "# Домашнее задание к уроку 11:\n",
        "## Решить уравление\n",
        "\n",
        "**f(x) = x^3 - 6x^2 + 4x + 12 (или 5x^3 - x^2 - 20x + 4)**\n",
        "\n",
        "1.  Определить корни\n",
        "2. Найти интервалы, на которых функция возрастает\n",
        "\n",
        "3. Найти интервалы, на которых функция убывает\n",
        "\n",
        "4. Построить график\n",
        "\n",
        "5. Вычислить вершину\n",
        "\n",
        "6. Определить промежутки, на котором f > 0\n",
        "\n",
        "7. Определить промежутки, на котором f < 0\n",
        "\n",
        "8. Оформить работу с заголовками в Markdown."
      ],
      "metadata": {
        "id": "KdBY2xB4grDa"
      }
    },
    {
      "cell_type": "markdown",
      "source": [
        "1. Определить корни **f(x) = x^3 - 6x^2 + 4x + 12**\n",
        ">Передавая список коэффицентов, функция root вернет все корни\n",
        "\n",
        "\n",
        "\n"
      ],
      "metadata": {
        "id": "1dXTSafChDjb"
      }
    },
    {
      "cell_type": "code",
      "source": [
        "import numpy as np\n",
        "import matplotlib.pyplot as plt\n",
        "from sympy import *\n",
        "from math import sqrt\n",
        "\n",
        "x1, x2, x3 = np.roots([3, -6, 4, 12])\n",
        "x1, x2, x3"
      ],
      "metadata": {
        "colab": {
          "base_uri": "https://localhost:8080/"
        },
        "id": "Yf49z3nng8Wj",
        "outputId": "f38d01a9-23b0-45a0-d09a-e0cd5765dd59"
      },
      "execution_count": 1,
      "outputs": [
        {
          "output_type": "execute_result",
          "data": {
            "text/plain": [
              "((1.4794998268455526+1.4078683315066025j),\n",
              " (1.4794998268455526-1.4078683315066025j),\n",
              " (-0.9589996536911045+0j))"
            ]
          },
          "metadata": {},
          "execution_count": 1
        }
      ]
    },
    {
      "cell_type": "markdown",
      "source": [
        "2. Найти интервалы, на которых функция возрастает\n",
        "3. Найти интервалы, на которых функция убывает"
      ],
      "metadata": {
        "id": "wnOJkxL7mXxv"
      }
    },
    {
      "cell_type": "code",
      "source": [
        "x = Symbol('x')\n",
        "y =  x ** 3 - 6 * x ** 2 + 4 * x +12\n",
        "df = diff(y)# ищем производную через sympy\n",
        "df\n"
      ],
      "metadata": {
        "colab": {
          "base_uri": "https://localhost:8080/",
          "height": 38
        },
        "id": "IOM3QjO4mIsJ",
        "outputId": "c5a42f6b-3604-4fa4-e8ce-33e91c7aa435"
      },
      "execution_count": 2,
      "outputs": [
        {
          "output_type": "execute_result",
          "data": {
            "text/plain": [
              "3*x**2 - 12*x + 4"
            ],
            "text/latex": "$\\displaystyle 3 x^{2} - 12 x + 4$"
          },
          "metadata": {},
          "execution_count": 2
        }
      ]
    },
    {
      "cell_type": "code",
      "source": [
        "df_root = solve(df)#ищем корни\n",
        "float(df_root[0])"
      ],
      "metadata": {
        "colab": {
          "base_uri": "https://localhost:8080/"
        },
        "id": "FNNK2sz44f_m",
        "outputId": "280530c3-49b1-4b30-fd1f-8248dabda740"
      },
      "execution_count": 3,
      "outputs": [
        {
          "output_type": "execute_result",
          "data": {
            "text/plain": [
              "0.36700683814454793"
            ]
          },
          "metadata": {},
          "execution_count": 3
        }
      ]
    },
    {
      "cell_type": "code",
      "source": [
        "solve(df<0)# функция убывает в промежутке:"
      ],
      "metadata": {
        "colab": {
          "base_uri": "https://localhost:8080/",
          "height": 55
        },
        "id": "Wr5l2pm6rVTH",
        "outputId": "f65b9b74-b926-45be-a96f-a2f5026a67f5"
      },
      "execution_count": 4,
      "outputs": [
        {
          "output_type": "execute_result",
          "data": {
            "text/plain": [
              "(x < 2*sqrt(6)/3 + 2) & (2 - 2*sqrt(6)/3 < x)"
            ],
            "text/latex": "$\\displaystyle x < \\frac{2 \\sqrt{6}}{3} + 2 \\wedge 2 - \\frac{2 \\sqrt{6}}{3} < x$"
          },
          "metadata": {},
          "execution_count": 4
        }
      ]
    },
    {
      "cell_type": "code",
      "source": [
        "solve(df>0)# Функция возрастает в промежутке"
      ],
      "metadata": {
        "colab": {
          "base_uri": "https://localhost:8080/",
          "height": 68
        },
        "id": "QpovuU-2rfvG",
        "outputId": "4e6ab873-c5d3-4382-9ffc-b2202a1af790"
      },
      "execution_count": 5,
      "outputs": [
        {
          "output_type": "execute_result",
          "data": {
            "text/plain": [
              "((-oo < x) & (x < 2 - 2*sqrt(6)/3)) | ((x < oo) & (2*sqrt(6)/3 + 2 < x))"
            ],
            "text/latex": "$\\displaystyle \\left(-\\infty < x \\wedge x < 2 - \\frac{2 \\sqrt{6}}{3}\\right) \\vee \\left(x < \\infty \\wedge \\frac{2 \\sqrt{6}}{3} + 2 < x\\right)$"
          },
          "metadata": {},
          "execution_count": 5
        }
      ]
    },
    {
      "cell_type": "markdown",
      "source": [
        "4. Построить график."
      ],
      "metadata": {
        "id": "2c7wW-pZs31O"
      }
    },
    {
      "cell_type": "code",
      "source": [
        "q= list(range(-36, 36))\n",
        "fq= [(x ** 3 - 6 * x ** 2 + 4 * x +12) for x in q]\n",
        "\n",
        "plt.axes(facecolor='white')\n",
        "plt.title('y = x^3 - 6x^2 + 4x + 12', fontsize = 17)\n",
        "plt.plot(q,fq)\n",
        "plt.show()"
      ],
      "metadata": {
        "colab": {
          "base_uri": "https://localhost:8080/",
          "height": 285
        },
        "id": "vjkNWg7ZtBXq",
        "outputId": "015dbec1-2802-46f4-f5ad-0e13b6e4c441"
      },
      "execution_count": 17,
      "outputs": [
        {
          "output_type": "display_data",
          "data": {
            "text/plain": [
              "<Figure size 432x288 with 1 Axes>"
            ],
            "image/png": "[encoded data removed]"
          },
          "metadata": {
            "needs_background": "light"
          }
        }
      ]
    },
    {
      "cell_type": "markdown",
      "source": [
        "5. Вычислить вершину"
      ],
      "metadata": {
        "id": "CY8J00Vc6EfK"
      }
    },
    {
      "cell_type": "code",
      "source": [
        "y = [3, -6, 4, 12]\n",
        "np.polyder(y)"
      ],
      "metadata": {
        "colab": {
          "base_uri": "https://localhost:8080/"
        },
        "id": "mRtl-O8P0UU8",
        "outputId": "84dcb265-f3dd-4256-dbdc-1b1464c2556c"
      },
      "execution_count": 7,
      "outputs": [
        {
          "output_type": "execute_result",
          "data": {
            "text/plain": [
              "array([  9, -12,   4])"
            ]
          },
          "metadata": {},
          "execution_count": 7
        }
      ]
    },
    {
      "cell_type": "code",
      "source": [
        "q1 = np.roots(np.polyder(y))#Точки вершины по оси x\n",
        "q1"
      ],
      "metadata": {
        "colab": {
          "base_uri": "https://localhost:8080/"
        },
        "id": "rbUQ1Iwr0Yag",
        "outputId": "a70f7acf-217e-470e-cfe8-8b9f9bcd5a57"
      },
      "execution_count": 8,
      "outputs": [
        {
          "output_type": "execute_result",
          "data": {
            "text/plain": [
              "array([0.66666667, 0.66666667])"
            ]
          },
          "metadata": {},
          "execution_count": 8
        }
      ]
    },
    {
      "cell_type": "code",
      "source": [
        "np.polyval(y, q1) # Точки вершин по оси y"
      ],
      "metadata": {
        "colab": {
          "base_uri": "https://localhost:8080/"
        },
        "id": "ALpRbQ_m0bhz",
        "outputId": "d08d0a3c-78fb-4c7c-c2f4-820a6032764e"
      },
      "execution_count": 9,
      "outputs": [
        {
          "output_type": "execute_result",
          "data": {
            "text/plain": [
              "array([12.88888889, 12.88888889])"
            ]
          },
          "metadata": {},
          "execution_count": 9
        }
      ]
    },
    {
      "cell_type": "markdown",
      "source": [
        "6. Определить промежутки, на котором f > 0\n",
        "\n",
        "7. пределить промежутки, на котором f < 0\n"
      ],
      "metadata": {
        "id": "y8-uI5HS734G"
      }
    },
    {
      "cell_type": "code",
      "source": [
        "y = x ** 3 - 6 * x ** 2 + 4 * x + 12\n",
        "solve(y>0)"
      ],
      "metadata": {
        "colab": {
          "base_uri": "https://localhost:8080/",
          "height": 38
        },
        "id": "moYqmAqP4s0G",
        "outputId": "9b3f0100-1bae-48aa-9ad2-0103dfdfc264"
      },
      "execution_count": 14,
      "outputs": [
        {
          "output_type": "execute_result",
          "data": {
            "text/plain": [
              "((x < oo) & (CRootOf(x**3 - 6*x**2 + 4*x + 12, 2) < x)) | ((x < CRootOf(x**3 - 6*x**2 + 4*x + 12, 1)) & (CRootOf(x**3 - 6*x**2 + 4*x + 12, 0) < x))"
            ],
            "text/latex": "$\\displaystyle \\left(x < \\infty \\wedge \\operatorname{CRootOf} {\\left(x^{3} - 6 x^{2} + 4 x + 12, 2\\right)} < x\\right) \\vee \\left(x < \\operatorname{CRootOf} {\\left(x^{3} - 6 x^{2} + 4 x + 12, 1\\right)} \\wedge \\operatorname{CRootOf} {\\left(x^{3} - 6 x^{2} + 4 x + 12, 0\\right)} < x\\right)$"
          },
          "metadata": {},
          "execution_count": 14
        }
      ]
    },
    {
      "cell_type": "code",
      "source": [
        "y = x ** 3 - 6 * x ** 2 + 4 * x + 12\n",
        "solve(y<0)"
      ],
      "metadata": {
        "colab": {
          "base_uri": "https://localhost:8080/",
          "height": 38
        },
        "id": "tqgC1lPz79Sb",
        "outputId": "f41ff0fb-4497-4a3c-ddcb-d1a4b3a44cb6"
      },
      "execution_count": 15,
      "outputs": [
        {
          "output_type": "execute_result",
          "data": {
            "text/plain": [
              "((-oo < x) & (x < CRootOf(x**3 - 6*x**2 + 4*x + 12, 0))) | ((x < CRootOf(x**3 - 6*x**2 + 4*x + 12, 2)) & (CRootOf(x**3 - 6*x**2 + 4*x + 12, 1) < x))"
            ],
            "text/latex": "$\\displaystyle \\left(-\\infty < x \\wedge x < \\operatorname{CRootOf} {\\left(x^{3} - 6 x^{2} + 4 x + 12, 0\\right)}\\right) \\vee \\left(x < \\operatorname{CRootOf} {\\left(x^{3} - 6 x^{2} + 4 x + 12, 2\\right)} \\wedge \\operatorname{CRootOf} {\\left(x^{3} - 6 x^{2} + 4 x + 12, 1\\right)} < x\\right)$"
          },
          "metadata": {},
          "execution_count": 15
        }
      ]
    },
    {
      "cell_type": "code",
      "source": [],
      "metadata": {
        "id": "oszkXvW-8QAi"
      },
      "execution_count": null,
      "outputs": []
    }
  ]
}