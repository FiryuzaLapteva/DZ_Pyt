{
  "nbformat": 4,
  "nbformat_minor": 0,
  "metadata": {
    "colab": {
      "provenance": [],
      "authorship_tag": "ABX9TyMcUXtcOJkkZGuIrU3w3Xp5",
      "include_colab_link": true
    },
    "kernelspec": {
      "name": "python3",
      "display_name": "Python 3"
    },
    "language_info": {
      "name": "python"
    }
  },
  "cells": [
    {
      "cell_type": "markdown",
      "metadata": {
        "id": "view-in-github",
        "colab_type": "text"
      },
      "source": [
        "<a href=\"https://colab.research.google.com/github/FiryuzaLapteva/DZ_Pyt/blob/main/Polynomial_Jupyter_%D0%94%D0%BE%D0%BC%D0%B0%D1%88%D0%BD%D0%B5%D0%B5_%D0%B7%D0%B0%D0%B4%D0%B0%D0%BD%D0%B8%D0%B5.ipynb\" target=\"_parent\"><img src=\"https://colab.research.google.com/assets/colab-badge.svg\" alt=\"Open In Colab\"/></a>"
      ]
    },
    {
      "cell_type": "markdown",
      "source": [
        "# Домашнее задание к уроку 11:\n",
        "## Решить уравление\n",
        "\n",
        "**f(x) = x^3 - 6x^2 + 4x + 12 (или 5x^3 - x^2 - 20x + 4)**\n",
        "\n",
        "1.  Определить корни\n",
        "2. Найти интервалы, на которых функция возрастает\n",
        "\n",
        "3. Найти интервалы, на которых функция убывает\n",
        "\n",
        "4. Построить график\n",
        "\n",
        "5. Вычислить вершину\n",
        "\n",
        "6. Определить промежутки, на котором f > 0\n",
        "\n",
        "7. Определить промежутки, на котором f < 0\n",
        "\n",
        "8. Оформить работу с заголовками в Markdown."
      ],
      "metadata": {
        "id": "KdBY2xB4grDa"
      }
    },
    {
      "cell_type": "markdown",
      "source": [
        "1. Определить корни **f(x) = x^3 - 6x^2 + 4x + 12**\n",
        ">Передавая список коэффицентов, функция root вернет все корни\n",
        "\n",
        "\n",
        "\n"
      ],
      "metadata": {
        "id": "1dXTSafChDjb"
      }
    },
    {
      "cell_type": "code",
      "source": [
        "import numpy as np\n",
        "import matplotlib.pyplot as plt\n",
        "from sympy import *\n",
        "from math import sqrt\n",
        "\n",
        "coeff = np.roots([3, -6, 4, 12])\n",
        "np.roots(coeff)"
      ],
      "metadata": {
        "colab": {
          "base_uri": "https://localhost:8080/"
        },
        "id": "Yf49z3nng8Wj",
        "outputId": "96279681-74e3-4519-9a88-63ef161550a7"
      },
      "execution_count": 2,
      "outputs": [
        {
          "output_type": "execute_result",
          "data": {
            "text/plain": [
              "array([-0.5       +0.8660254j ,  0.45041336+0.13274442j])"
            ]
          },
          "metadata": {},
          "execution_count": 2
        }
      ]
    },
    {
      "cell_type": "markdown",
      "source": [
        "2. Найти интервалы, на которых функция возрастает\n",
        "3. Найти интервалы, на которых функция убывает"
      ],
      "metadata": {
        "id": "wnOJkxL7mXxv"
      }
    },
    {
      "cell_type": "code",
      "source": [
        "x = Symbol('x')\n",
        "y =  x ** 3 - 6 * x ** 2 + 4 * x +12\n",
        "df = diff(y)# ищем производную через sympy\n",
        "df\n"
      ],
      "metadata": {
        "colab": {
          "base_uri": "https://localhost:8080/",
          "height": 38
        },
        "id": "IOM3QjO4mIsJ",
        "outputId": "9163348b-4597-4231-e21f-9bf940d1c949"
      },
      "execution_count": null,
      "outputs": [
        {
          "output_type": "execute_result",
          "data": {
            "text/plain": [
              "3*x**2 - 12*x + 4"
            ],
            "text/latex": "$\\displaystyle 3 x^{2} - 12 x + 4$"
          },
          "metadata": {},
          "execution_count": 5
        }
      ]
    },
    {
      "cell_type": "code",
      "source": [
        "solve(df<0)# функция убывает в промежутке:"
      ],
      "metadata": {
        "colab": {
          "base_uri": "https://localhost:8080/",
          "height": 55
        },
        "id": "Wr5l2pm6rVTH",
        "outputId": "3a785e98-270b-4efa-d9a3-9e9e37cd4897"
      },
      "execution_count": null,
      "outputs": [
        {
          "output_type": "execute_result",
          "data": {
            "text/plain": [
              "(x < 2*sqrt(6)/3 + 2) & (2 - 2*sqrt(6)/3 < x)"
            ],
            "text/latex": "$\\displaystyle x < \\frac{2 \\sqrt{6}}{3} + 2 \\wedge 2 - \\frac{2 \\sqrt{6}}{3} < x$"
          },
          "metadata": {},
          "execution_count": 4
        }
      ]
    },
    {
      "cell_type": "code",
      "source": [
        "solve(df>0)# Функция возрастает в промежутке"
      ],
      "metadata": {
        "colab": {
          "base_uri": "https://localhost:8080/",
          "height": 68
        },
        "id": "QpovuU-2rfvG",
        "outputId": "eb661d50-2762-4a3b-f438-2b37c8a1f799"
      },
      "execution_count": null,
      "outputs": [
        {
          "output_type": "execute_result",
          "data": {
            "text/plain": [
              "((-oo < x) & (x < 2 - 2*sqrt(6)/3)) | ((x < oo) & (2*sqrt(6)/3 + 2 < x))"
            ],
            "text/latex": "$\\displaystyle \\left(-\\infty < x \\wedge x < 2 - \\frac{2 \\sqrt{6}}{3}\\right) \\vee \\left(x < \\infty \\wedge \\frac{2 \\sqrt{6}}{3} + 2 < x\\right)$"
          },
          "metadata": {},
          "execution_count": 6
        }
      ]
    },
    {
      "cell_type": "markdown",
      "source": [
        "4. Построить график."
      ],
      "metadata": {
        "id": "2c7wW-pZs31O"
      }
    },
    {
      "cell_type": "code",
      "source": [
        "q= list(range(-10, 10))\n",
        "fq= [(x ** 3 - 6 * x ** 2 + 4 * x +12) for x in q]\n",
        "\n",
        "plt.axes(facecolor='white')\n",
        "plt.title('x^3 - 6x^2 + 4x + 12', fontsize = 17)\n",
        "plt.plot(q,fq)\n",
        "plt.show()"
      ],
      "metadata": {
        "colab": {
          "base_uri": "https://localhost:8080/",
          "height": 285
        },
        "id": "vjkNWg7ZtBXq",
        "outputId": "86b26bd4-30e4-4e80-8140-ae222530db5a"
      },
      "execution_count": 3,
      "outputs": [
        {
          "output_type": "display_data",
          "data": {
            "text/plain": [
              "<Figure size 432x288 with 1 Axes>"
            ],
            "image/png": "[encoded data removed]"
          },
          "metadata": {
            "needs_background": "light"
          }
        }
      ]
    },
    {
      "cell_type": "markdown",
      "source": [
        "5. Вычислить вершину"
      ],
      "metadata": {
        "id": "CY8J00Vc6EfK"
      }
    },
    {
      "cell_type": "markdown",
      "source": [
        "6. Определить промежутки, на котором f > 0\n",
        "\n",
        "7. пределить промежутки, на котором f < 0\n"
      ],
      "metadata": {
        "id": "y8-uI5HS734G"
      }
    },
    {
      "cell_type": "code",
      "source": [
        "solve(y>0)"
      ],
      "metadata": {
        "colab": {
          "base_uri": "https://localhost:8080/",
          "height": 38
        },
        "id": "moYqmAqP4s0G",
        "outputId": "c411709d-b6cd-473f-8ae9-59a67682fd23"
      },
      "execution_count": null,
      "outputs": [
        {
          "output_type": "execute_result",
          "data": {
            "text/plain": [
              "((x < oo) & (CRootOf(x**3 - 6*x**2 + 4*x + 12, 2) < x)) | ((x < CRootOf(x**3 - 6*x**2 + 4*x + 12, 1)) & (CRootOf(x**3 - 6*x**2 + 4*x + 12, 0) < x))"
            ],
            "text/latex": "$\\displaystyle \\left(x < \\infty \\wedge \\operatorname{CRootOf} {\\left(x^{3} - 6 x^{2} + 4 x + 12, 2\\right)} < x\\right) \\vee \\left(x < \\operatorname{CRootOf} {\\left(x^{3} - 6 x^{2} + 4 x + 12, 1\\right)} \\wedge \\operatorname{CRootOf} {\\left(x^{3} - 6 x^{2} + 4 x + 12, 0\\right)} < x\\right)$"
          },
          "metadata": {},
          "execution_count": 11
        }
      ]
    },
    {
      "cell_type": "code",
      "source": [
        "solve(y<0)"
      ],
      "metadata": {
        "colab": {
          "base_uri": "https://localhost:8080/",
          "height": 38
        },
        "id": "tqgC1lPz79Sb",
        "outputId": "84821a58-b9d3-4a51-da08-3c4e6da16b08"
      },
      "execution_count": null,
      "outputs": [
        {
          "output_type": "execute_result",
          "data": {
            "text/plain": [
              "((-oo < x) & (x < CRootOf(x**3 - 6*x**2 + 4*x + 12, 0))) | ((x < CRootOf(x**3 - 6*x**2 + 4*x + 12, 2)) & (CRootOf(x**3 - 6*x**2 + 4*x + 12, 1) < x))"
            ],
            "text/latex": "$\\displaystyle \\left(-\\infty < x \\wedge x < \\operatorname{CRootOf} {\\left(x^{3} - 6 x^{2} + 4 x + 12, 0\\right)}\\right) \\vee \\left(x < \\operatorname{CRootOf} {\\left(x^{3} - 6 x^{2} + 4 x + 12, 2\\right)} \\wedge \\operatorname{CRootOf} {\\left(x^{3} - 6 x^{2} + 4 x + 12, 1\\right)} < x\\right)$"
          },
          "metadata": {},
          "execution_count": 12
        }
      ]
    },
    {
      "cell_type": "code",
      "source": [],
      "metadata": {
        "id": "oszkXvW-8QAi"
      },
      "execution_count": null,
      "outputs": []
    }
  ]
}